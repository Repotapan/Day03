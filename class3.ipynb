{
 "cells": [
  {
   "cell_type": "code",
   "execution_count": 1,
   "id": "de6cbc55-53d2-484b-8e82-b6ce42926654",
   "metadata": {},
   "outputs": [],
   "source": [
    " d={}"
   ]
  },
  {
   "cell_type": "code",
   "execution_count": 2,
   "id": "d598d4c7-bf48-45be-a2e4-b1e5141ffc93",
   "metadata": {},
   "outputs": [
    {
     "data": {
      "text/plain": [
       "dict"
      ]
     },
     "execution_count": 2,
     "metadata": {},
     "output_type": "execute_result"
    }
   ],
   "source": [
    "type(d)"
   ]
  },
  {
   "cell_type": "code",
   "execution_count": 3,
   "id": "037290a3-fe8f-464c-b89d-fd5194f192b7",
   "metadata": {},
   "outputs": [],
   "source": [
    "d1={\"key\":\"value\"}"
   ]
  },
  {
   "cell_type": "code",
   "execution_count": 4,
   "id": "bac74fd4-ead9-411d-880a-e8accedc73c2",
   "metadata": {},
   "outputs": [
    {
     "data": {
      "text/plain": [
       "{'key': 'value'}"
      ]
     },
     "execution_count": 4,
     "metadata": {},
     "output_type": "execute_result"
    }
   ],
   "source": [
    "d1"
   ]
  },
  {
   "cell_type": "code",
   "execution_count": 5,
   "id": "41df190c-7673-4178-a3b9-c7d0a922b38c",
   "metadata": {},
   "outputs": [],
   "source": [
    "d2={'name':'tapan',\"emial\":\"tpati2001@gmail.com\",\"phone no\":\"76552463\"}"
   ]
  },
  {
   "cell_type": "code",
   "execution_count": 6,
   "id": "325648b5-b6cf-46d5-8943-d81fac438e3c",
   "metadata": {},
   "outputs": [
    {
     "data": {
      "text/plain": [
       "{'name': 'tapan', 'emial': 'tpati2001@gmail.com', 'phone no': '76552463'}"
      ]
     },
     "execution_count": 6,
     "metadata": {},
     "output_type": "execute_result"
    }
   ],
   "source": [
    "d2"
   ]
  },
  {
   "cell_type": "code",
   "execution_count": 7,
   "id": "85cc2580-2b55-4a84-8330-a1fcecb94565",
   "metadata": {},
   "outputs": [],
   "source": [
    "d3={309:\"tapu\"}"
   ]
  },
  {
   "cell_type": "code",
   "execution_count": 8,
   "id": "e599b46f-5b37-4cf6-aa4b-4400d0f3b364",
   "metadata": {},
   "outputs": [
    {
     "data": {
      "text/plain": [
       "{309: 'tapu'}"
      ]
     },
     "execution_count": 8,
     "metadata": {},
     "output_type": "execute_result"
    }
   ],
   "source": [
    "d3"
   ]
  },
  {
   "cell_type": "code",
   "execution_count": 9,
   "id": "16b7684c-d0a2-4973-bf9f-27b1eea3a2b7",
   "metadata": {},
   "outputs": [
    {
     "ename": "NameError",
     "evalue": "name '_w' is not defined",
     "output_type": "error",
     "traceback": [
      "\u001b[0;31m---------------------------------------------------------------------------\u001b[0m",
      "\u001b[0;31mNameError\u001b[0m                                 Traceback (most recent call last)",
      "Cell \u001b[0;32mIn[9], line 1\u001b[0m\n\u001b[0;32m----> 1\u001b[0m d4\u001b[38;5;241m=\u001b[39m{\u001b[43m_w\u001b[49m:\u001b[38;5;124m\"\u001b[39m\u001b[38;5;124mdgj\u001b[39m\u001b[38;5;124m\"\u001b[39m}\n",
      "\u001b[0;31mNameError\u001b[0m: name '_w' is not defined"
     ]
    }
   ],
   "source": [
    "d4={_w:\"dgj\"}"
   ]
  },
  {
   "cell_type": "code",
   "execution_count": 10,
   "id": "be9fdca8-c582-43d7-b91c-5e7c11c7c3ec",
   "metadata": {},
   "outputs": [],
   "source": [
    "d5={\"_w\":\"gdvhdv\"}"
   ]
  },
  {
   "cell_type": "code",
   "execution_count": 11,
   "id": "2772fca9-5f51-443d-be32-bbdadf2836d2",
   "metadata": {},
   "outputs": [
    {
     "data": {
      "text/plain": [
       "{'_w': 'gdvhdv'}"
      ]
     },
     "execution_count": 11,
     "metadata": {},
     "output_type": "execute_result"
    }
   ],
   "source": [
    "d5"
   ]
  },
  {
   "cell_type": "code",
   "execution_count": 12,
   "id": "c3d80129-fa54-4c62-bf95-dc84eeac0a76",
   "metadata": {},
   "outputs": [
    {
     "ename": "NameError",
     "evalue": "name 'de' is not defined",
     "output_type": "error",
     "traceback": [
      "\u001b[0;31m---------------------------------------------------------------------------\u001b[0m",
      "\u001b[0;31mNameError\u001b[0m                                 Traceback (most recent call last)",
      "Cell \u001b[0;32mIn[12], line 1\u001b[0m\n\u001b[0;32m----> 1\u001b[0m \u001b[43mde\u001b[49m\n",
      "\u001b[0;31mNameError\u001b[0m: name 'de' is not defined"
     ]
    }
   ],
   "source": [
    "de"
   ]
  },
  {
   "cell_type": "code",
   "execution_count": 13,
   "id": "5f72d74b-283b-4ed4-895a-8d576ea771d1",
   "metadata": {},
   "outputs": [
    {
     "data": {
      "text/plain": [
       "{309: 'tapu'}"
      ]
     },
     "execution_count": 13,
     "metadata": {},
     "output_type": "execute_result"
    }
   ],
   "source": [
    "d3"
   ]
  },
  {
   "cell_type": "code",
   "execution_count": 14,
   "id": "a33ea29c-fa37-471f-a5ca-080bbaeb962f",
   "metadata": {},
   "outputs": [
    {
     "data": {
      "text/plain": [
       "{'name': 'tapan', 'emial': 'tpati2001@gmail.com', 'phone no': '76552463'}"
      ]
     },
     "execution_count": 14,
     "metadata": {},
     "output_type": "execute_result"
    }
   ],
   "source": [
    "d2"
   ]
  },
  {
   "cell_type": "code",
   "execution_count": 15,
   "id": "4d0be91d-2ce2-40d6-bf71-a0fe0e28a5f8",
   "metadata": {},
   "outputs": [
    {
     "data": {
      "text/plain": [
       "'tapan'"
      ]
     },
     "execution_count": 15,
     "metadata": {},
     "output_type": "execute_result"
    }
   ],
   "source": [
    "d2[\"name\"]"
   ]
  },
  {
   "cell_type": "code",
   "execution_count": 16,
   "id": "46edb7b6-2a94-4f4c-88c6-5023d5e67594",
   "metadata": {},
   "outputs": [
    {
     "ename": "KeyError",
     "evalue": "1",
     "output_type": "error",
     "traceback": [
      "\u001b[0;31m---------------------------------------------------------------------------\u001b[0m",
      "\u001b[0;31mKeyError\u001b[0m                                  Traceback (most recent call last)",
      "Cell \u001b[0;32mIn[16], line 1\u001b[0m\n\u001b[0;32m----> 1\u001b[0m \u001b[43md2\u001b[49m\u001b[43m[\u001b[49m\u001b[38;5;241;43m1\u001b[39;49m\u001b[43m]\u001b[49m\n",
      "\u001b[0;31mKeyError\u001b[0m: 1"
     ]
    }
   ],
   "source": [
    "d2[1]"
   ]
  },
  {
   "cell_type": "code",
   "execution_count": 17,
   "id": "07756c75-d70b-4263-9cbd-3627a18b5ef0",
   "metadata": {},
   "outputs": [
    {
     "ename": "SyntaxError",
     "evalue": "unterminated string literal (detected at line 1) (4185707725.py, line 1)",
     "output_type": "error",
     "traceback": [
      "\u001b[0;36m  Cell \u001b[0;32mIn[17], line 1\u001b[0;36m\u001b[0m\n\u001b[0;31m    d4={\"name\":\"tapan\",\"email\":tpati2001@gmail.com\",\"name\":\"tapan kumar pati\"}\u001b[0m\n\u001b[0m                                                                            ^\u001b[0m\n\u001b[0;31mSyntaxError\u001b[0m\u001b[0;31m:\u001b[0m unterminated string literal (detected at line 1)\n"
     ]
    }
   ],
   "source": [
    "d4={\"name\":\"tapan\",\"email\":tpati2001@gmail.com\",\"name\":\"tapan kumar pati\"}"
   ]
  },
  {
   "cell_type": "code",
   "execution_count": 18,
   "id": "8816fc67-abe2-49e9-b972-8ab5baaf61cd",
   "metadata": {},
   "outputs": [
    {
     "ename": "NameError",
     "evalue": "name 'd4' is not defined",
     "output_type": "error",
     "traceback": [
      "\u001b[0;31m---------------------------------------------------------------------------\u001b[0m",
      "\u001b[0;31mNameError\u001b[0m                                 Traceback (most recent call last)",
      "Cell \u001b[0;32mIn[18], line 1\u001b[0m\n\u001b[0;32m----> 1\u001b[0m \u001b[43md4\u001b[49m[\u001b[38;5;124m\"\u001b[39m\u001b[38;5;124mname\u001b[39m\u001b[38;5;124m\"\u001b[39m]\n",
      "\u001b[0;31mNameError\u001b[0m: name 'd4' is not defined"
     ]
    }
   ],
   "source": [
    "d4[\"name\"]"
   ]
  },
  {
   "cell_type": "code",
   "execution_count": 19,
   "id": "a849e350-9c20-43d6-a730-ec6dcdab2947",
   "metadata": {},
   "outputs": [],
   "source": [
    "d5={'name':'sudh','mail':'tndf.com',\"name\":\"sudhansu\"}"
   ]
  },
  {
   "cell_type": "code",
   "execution_count": 20,
   "id": "270c9019-16e1-4022-b944-346f936bcdd6",
   "metadata": {},
   "outputs": [
    {
     "data": {
      "text/plain": [
       "'sudhansu'"
      ]
     },
     "execution_count": 20,
     "metadata": {},
     "output_type": "execute_result"
    }
   ],
   "source": [
    "d5[\"name\"]"
   ]
  },
  {
   "cell_type": "code",
   "execution_count": 21,
   "id": "ddaa4871-dcea-44cf-859e-412d517d98b2",
   "metadata": {},
   "outputs": [],
   "source": [
    "d5={'name':'sudh','mail':'tndf.com','name':'sudhansu'}"
   ]
  },
  {
   "cell_type": "code",
   "execution_count": 22,
   "id": "5f88f200-283e-470d-af2f-8b2e315d1885",
   "metadata": {},
   "outputs": [
    {
     "data": {
      "text/plain": [
       "'sudhansu'"
      ]
     },
     "execution_count": 22,
     "metadata": {},
     "output_type": "execute_result"
    }
   ],
   "source": [
    "d5['name']"
   ]
  },
  {
   "cell_type": "code",
   "execution_count": 23,
   "id": "25db1112-794a-4593-aa5a-0fc6ffd86f37",
   "metadata": {},
   "outputs": [],
   "source": [
    "d6={\"company\":\"pwskills\",\"courses\":[\"web dev\",\"data science\",\"java with system degign\"]}"
   ]
  },
  {
   "cell_type": "code",
   "execution_count": 24,
   "id": "3674a65f-0c0b-4884-b1c1-dff395a6da7d",
   "metadata": {},
   "outputs": [
    {
     "data": {
      "text/plain": [
       "{'name': 'sudhansu', 'mail': 'tndf.com'}"
      ]
     },
     "execution_count": 24,
     "metadata": {},
     "output_type": "execute_result"
    }
   ],
   "source": [
    "d5"
   ]
  },
  {
   "cell_type": "code",
   "execution_count": 25,
   "id": "81838828-8fa6-4314-afea-df453d970d49",
   "metadata": {},
   "outputs": [
    {
     "data": {
      "text/plain": [
       "{'company': 'pwskills',\n",
       " 'courses': ['web dev', 'data science', 'java with system degign']}"
      ]
     },
     "execution_count": 25,
     "metadata": {},
     "output_type": "execute_result"
    }
   ],
   "source": [
    "d6"
   ]
  },
  {
   "cell_type": "code",
   "execution_count": 26,
   "id": "6cad06ce-89ac-442c-a0c7-b2c3b9b67bc6",
   "metadata": {},
   "outputs": [
    {
     "data": {
      "text/plain": [
       "['web dev', 'data science', 'java with system degign']"
      ]
     },
     "execution_count": 26,
     "metadata": {},
     "output_type": "execute_result"
    }
   ],
   "source": [
    "d6[\"courses\"]"
   ]
  },
  {
   "cell_type": "code",
   "execution_count": 27,
   "id": "3fa65c9b-a535-4a63-adbb-ba3f35975215",
   "metadata": {},
   "outputs": [
    {
     "data": {
      "text/plain": [
       "'java with system degign'"
      ]
     },
     "execution_count": 27,
     "metadata": {},
     "output_type": "execute_result"
    }
   ],
   "source": [
    "d6[\"courses\"][2]"
   ]
  },
  {
   "cell_type": "code",
   "execution_count": 33,
   "id": "24c3af49-b0bd-4490-a17c-79c3f752e104",
   "metadata": {},
   "outputs": [],
   "source": [
    "d7={\"number\":[12,1,3,14,15,16],\"assignmnet\":[6,7,8,9,10],\"date\":[29,12,21],\"class_time\":{\"web dev\":8,\"ds\":10,\"java\":9}}"
   ]
  },
  {
   "cell_type": "code",
   "execution_count": 34,
   "id": "173f1fd3-d2e0-4cee-adbc-910b10c167ed",
   "metadata": {},
   "outputs": [
    {
     "data": {
      "text/plain": [
       "{'number': [12, 1, 3, 14, 15, 16],\n",
       " 'assignmnet': [6, 7, 8, 9, 10],\n",
       " 'date': [29, 12, 21],\n",
       " 'class_time': {'web dev': 8, 'ds': 10, 'java': 9}}"
      ]
     },
     "execution_count": 34,
     "metadata": {},
     "output_type": "execute_result"
    }
   ],
   "source": [
    "d7"
   ]
  },
  {
   "cell_type": "code",
   "execution_count": 36,
   "id": "64c62ae3-0bd9-4e9a-b613-e1d970ba3b97",
   "metadata": {},
   "outputs": [
    {
     "data": {
      "text/plain": [
       "{'web dev': 8, 'ds': 10, 'java': 9}"
      ]
     },
     "execution_count": 36,
     "metadata": {},
     "output_type": "execute_result"
    }
   ],
   "source": [
    "d7[\"class_time\"]"
   ]
  },
  {
   "cell_type": "code",
   "execution_count": 37,
   "id": "8b57ea3f-fdaf-4339-a8b9-bf348fd3438f",
   "metadata": {},
   "outputs": [
    {
     "data": {
      "text/plain": [
       "9"
      ]
     },
     "execution_count": 37,
     "metadata": {},
     "output_type": "execute_result"
    }
   ],
   "source": [
    "d7[\"class_time\"][\"java\"]"
   ]
  },
  {
   "cell_type": "code",
   "execution_count": 38,
   "id": "9109a5ab-6edd-48f2-b568-767884221722",
   "metadata": {},
   "outputs": [],
   "source": [
    "d7['mentor']=[\"sudhansu\",\"krish\",\"anurag\",\"hayder\"]"
   ]
  },
  {
   "cell_type": "code",
   "execution_count": 39,
   "id": "d17cf493-6580-4efb-9a16-df0e1c021674",
   "metadata": {},
   "outputs": [
    {
     "data": {
      "text/plain": [
       "{'number': [12, 1, 3, 14, 15, 16],\n",
       " 'assignmnet': [6, 7, 8, 9, 10],\n",
       " 'date': [29, 12, 21],\n",
       " 'class_time': {'web dev': 8, 'ds': 10, 'java': 9},\n",
       " 'mentor': ['sudhansu', 'krish', 'anurag', 'hayder']}"
      ]
     },
     "execution_count": 39,
     "metadata": {},
     "output_type": "execute_result"
    }
   ],
   "source": [
    "d7"
   ]
  },
  {
   "cell_type": "code",
   "execution_count": 40,
   "id": "f215db4e-c03d-4c7c-84ba-9ccf418ff21d",
   "metadata": {},
   "outputs": [
    {
     "ename": "KeyError",
     "evalue": "'mentpor'",
     "output_type": "error",
     "traceback": [
      "\u001b[0;31m---------------------------------------------------------------------------\u001b[0m",
      "\u001b[0;31mKeyError\u001b[0m                                  Traceback (most recent call last)",
      "Cell \u001b[0;32mIn[40], line 1\u001b[0m\n\u001b[0;32m----> 1\u001b[0m \u001b[38;5;28;01mdel\u001b[39;00m d7[\u001b[38;5;124m\"\u001b[39m\u001b[38;5;124mmentpor\u001b[39m\u001b[38;5;124m\"\u001b[39m]\n",
      "\u001b[0;31mKeyError\u001b[0m: 'mentpor'"
     ]
    }
   ],
   "source": [
    "del d7[\"mentpor\"]"
   ]
  },
  {
   "cell_type": "code",
   "execution_count": 41,
   "id": "0df52c14-b1f7-46f9-9530-7960a42de25a",
   "metadata": {},
   "outputs": [],
   "source": [
    "del d7[\"mentor\"]"
   ]
  },
  {
   "cell_type": "code",
   "execution_count": 42,
   "id": "2d188986-790e-47a7-80f1-a35bb0129b6c",
   "metadata": {},
   "outputs": [
    {
     "data": {
      "text/plain": [
       "{'number': [12, 1, 3, 14, 15, 16],\n",
       " 'assignmnet': [6, 7, 8, 9, 10],\n",
       " 'date': [29, 12, 21],\n",
       " 'class_time': {'web dev': 8, 'ds': 10, 'java': 9}}"
      ]
     },
     "execution_count": 42,
     "metadata": {},
     "output_type": "execute_result"
    }
   ],
   "source": [
    "d7"
   ]
  },
  {
   "cell_type": "code",
   "execution_count": 44,
   "id": "d76b3939-4ba1-4cc5-a0d7-a87516c11d06",
   "metadata": {},
   "outputs": [
    {
     "data": {
      "text/plain": [
       "['number', 'assignmnet', 'date', 'class_time']"
      ]
     },
     "execution_count": 44,
     "metadata": {},
     "output_type": "execute_result"
    }
   ],
   "source": [
    "list(d7.keys())"
   ]
  },
  {
   "cell_type": "code",
   "execution_count": 45,
   "id": "1f4363b0-f421-4e10-8452-090ff948cbfb",
   "metadata": {},
   "outputs": [
    {
     "data": {
      "text/plain": [
       "dict_values([[12, 1, 3, 14, 15, 16], [6, 7, 8, 9, 10], [29, 12, 21], {'web dev': 8, 'ds': 10, 'java': 9}])"
      ]
     },
     "execution_count": 45,
     "metadata": {},
     "output_type": "execute_result"
    }
   ],
   "source": [
    "d7.values()"
   ]
  },
  {
   "cell_type": "code",
   "execution_count": 46,
   "id": "fa15e84d-23b6-496a-96ae-9b7c5c432780",
   "metadata": {},
   "outputs": [
    {
     "data": {
      "text/plain": [
       "[[12, 1, 3, 14, 15, 16],\n",
       " [6, 7, 8, 9, 10],\n",
       " [29, 12, 21],\n",
       " {'web dev': 8, 'ds': 10, 'java': 9}]"
      ]
     },
     "execution_count": 46,
     "metadata": {},
     "output_type": "execute_result"
    }
   ],
   "source": [
    "list(d7.values())"
   ]
  },
  {
   "cell_type": "code",
   "execution_count": 47,
   "id": "9a05d884-668e-4ec7-8dc2-552329b29870",
   "metadata": {},
   "outputs": [
    {
     "ename": "SyntaxError",
     "evalue": "unterminated string literal (detected at line 1) (2906016624.py, line 1)",
     "output_type": "error",
     "traceback": [
      "\u001b[0;36m  Cell \u001b[0;32mIn[47], line 1\u001b[0;36m\u001b[0m\n\u001b[0;31m    d7.items()\"\u001b[0m\n\u001b[0m              ^\u001b[0m\n\u001b[0;31mSyntaxError\u001b[0m\u001b[0;31m:\u001b[0m unterminated string literal (detected at line 1)\n"
     ]
    }
   ],
   "source": [
    "d7.items()\""
   ]
  },
  {
   "cell_type": "code",
   "execution_count": 48,
   "id": "f735e652-240a-4c5d-aff6-d2ae2eedef51",
   "metadata": {},
   "outputs": [
    {
     "data": {
      "text/plain": [
       "dict_items([('number', [12, 1, 3, 14, 15, 16]), ('assignmnet', [6, 7, 8, 9, 10]), ('date', [29, 12, 21]), ('class_time', {'web dev': 8, 'ds': 10, 'java': 9})])"
      ]
     },
     "execution_count": 48,
     "metadata": {},
     "output_type": "execute_result"
    }
   ],
   "source": [
    "d7.items()"
   ]
  },
  {
   "cell_type": "code",
   "execution_count": 49,
   "id": "cd774460-87b4-4b0f-b07c-fa914055a8ea",
   "metadata": {},
   "outputs": [
    {
     "data": {
      "text/plain": [
       "[('number', [12, 1, 3, 14, 15, 16]),\n",
       " ('assignmnet', [6, 7, 8, 9, 10]),\n",
       " ('date', [29, 12, 21]),\n",
       " ('class_time', {'web dev': 8, 'ds': 10, 'java': 9})]"
      ]
     },
     "execution_count": 49,
     "metadata": {},
     "output_type": "execute_result"
    }
   ],
   "source": [
    "list(d7.items())"
   ]
  },
  {
   "cell_type": "code",
   "execution_count": 50,
   "id": "e45b8927-9332-4107-a101-1d4a00f0e5be",
   "metadata": {},
   "outputs": [
    {
     "data": {
      "text/plain": [
       "[29, 12, 21]"
      ]
     },
     "execution_count": 50,
     "metadata": {},
     "output_type": "execute_result"
    }
   ],
   "source": [
    "d7.pop('date')"
   ]
  },
  {
   "cell_type": "code",
   "execution_count": 51,
   "id": "31aee720-9d60-48d4-9e28-1259634df452",
   "metadata": {},
   "outputs": [
    {
     "data": {
      "text/plain": [
       "{'number': [12, 1, 3, 14, 15, 16],\n",
       " 'assignmnet': [6, 7, 8, 9, 10],\n",
       " 'class_time': {'web dev': 8, 'ds': 10, 'java': 9}}"
      ]
     },
     "execution_count": 51,
     "metadata": {},
     "output_type": "execute_result"
    }
   ],
   "source": [
    "d7"
   ]
  },
  {
   "cell_type": "code",
   "execution_count": 52,
   "id": "d1279966-4e39-4ed5-b79e-86f629c09ad5",
   "metadata": {},
   "outputs": [],
   "source": [
    " # control flow statement"
   ]
  },
  {
   "cell_type": "code",
   "execution_count": 60,
   "id": "f433c50d-5946-435a-8a44-3eff5bb7ae03",
   "metadata": {},
   "outputs": [
    {
     "name": "stdin",
     "output_type": "stream",
     "text": [
      "Enter your marks 65\n"
     ]
    },
    {
     "name": "stdout",
     "output_type": "stream",
     "text": [
      "you will be the part of A1 batch\n"
     ]
    }
   ],
   "source": [
    "marks = int(input(\"Enter your marks\"))\n",
    "if marks >= 80:\n",
    "    print(\"you will be the part of A0 batch\")\n",
    "elif marks >= 60 and marks <80:\n",
    "    print(\"you will be the part of A1 batch\")\n",
    "elif marks>= 40 and marks <60:\n",
    "    print(\"you will be the part of A2 batch\")\n",
    "else:\n",
    "    print(\"you will be the part of A3 batch\")\n",
    "    "
   ]
  },
  {
   "cell_type": "code",
   "execution_count": 61,
   "id": "3a385931-8d8d-47ac-85a1-090c0582a7fd",
   "metadata": {},
   "outputs": [
    {
     "name": "stdin",
     "output_type": "stream",
     "text": [
      "Enter price 500\n"
     ]
    },
    {
     "name": "stdout",
     "output_type": "stream",
     "text": [
      "i will purchase\n"
     ]
    }
   ],
   "source": [
    "price=int(input(\"Enter price\"))\n",
    "if price > 1000:\n",
    "    print(\"i will not purchase\")\n",
    "else:\n",
    "    print(\"i will purchase\")"
   ]
  },
  {
   "cell_type": "code",
   "execution_count": 62,
   "id": "1ca6817e-231e-46f3-8c56-b6c5d8943a23",
   "metadata": {},
   "outputs": [
    {
     "name": "stdin",
     "output_type": "stream",
     "text": [
      "Enter price 7000\n"
     ]
    },
    {
     "name": "stdout",
     "output_type": "stream",
     "text": [
      "i will not purchase\n",
      " this is too much\n"
     ]
    }
   ],
   "source": [
    "price=int(input(\"Enter price\"))\n",
    "if price > 1000:\n",
    "    print(\"i will not purchase\")\n",
    "    if price > 5000:\n",
    "        print(\" this is too much\")"
   ]
  },
  {
   "cell_type": "code",
   "execution_count": 67,
   "id": "316c71ed-5311-451b-8eab-042a9b3b1915",
   "metadata": {},
   "outputs": [
    {
     "name": "stdout",
     "output_type": "stream",
     "text": [
      "2\n",
      "3\n",
      "4\n",
      "5\n",
      "6\n",
      "7\n",
      "8\n",
      "9\n",
      "10\n"
     ]
    },
    {
     "data": {
      "text/plain": [
       "[2, 3, 4, 5, 6, 7, 8, 9, 10]"
      ]
     },
     "execution_count": 67,
     "metadata": {},
     "output_type": "execute_result"
    }
   ],
   "source": [
    "l1=[]\n",
    "l=[1,2,3,4,5,6,7,8,9]\n",
    "for i in l:\n",
    "    print(i+1)\n",
    "    l1.append(i+1)\n",
    "l1"
   ]
  },
  {
   "cell_type": "code",
   "execution_count": 68,
   "id": "81f536ea-22f6-49b4-9698-a2ad75b9465e",
   "metadata": {},
   "outputs": [
    {
     "data": {
      "text/plain": [
       "[1, 2, 3, 4, 5, 6, 7, 8, 9]"
      ]
     },
     "execution_count": 68,
     "metadata": {},
     "output_type": "execute_result"
    }
   ],
   "source": [
    " l"
   ]
  },
  {
   "cell_type": "code",
   "execution_count": 69,
   "id": "c3e9878b-defc-4a0c-9cdd-62d7085afd9a",
   "metadata": {},
   "outputs": [
    {
     "data": {
      "text/plain": [
       "[2, 3, 4, 5, 6, 7, 8, 9, 10]"
      ]
     },
     "execution_count": 69,
     "metadata": {},
     "output_type": "execute_result"
    }
   ],
   "source": [
    "l1"
   ]
  },
  {
   "cell_type": "code",
   "execution_count": 79,
   "id": "1979d779-b40e-4801-958c-4061bb6e9483",
   "metadata": {},
   "outputs": [
    {
     "name": "stdout",
     "output_type": "stream",
     "text": [
      "sudh\n",
      "pwskill\n",
      "course\n",
      "kumar\n"
     ]
    }
   ],
   "source": [
    "l1=[]\n",
    "l=[\"sudh\",\"pwskill\",\"course\",\"kumar\"]\n",
    "for i in l:\n",
    "    print(i)\n",
    "    l1.append(i.upper())\n",
    "    \n"
   ]
  },
  {
   "cell_type": "code",
   "execution_count": 80,
   "id": "fa6832b1-e082-4387-831a-a9d79d0f1296",
   "metadata": {},
   "outputs": [
    {
     "data": {
      "text/plain": [
       "['SUDH', 'PWSKILL', 'COURSE', 'KUMAR']"
      ]
     },
     "execution_count": 80,
     "metadata": {},
     "output_type": "execute_result"
    }
   ],
   "source": [
    "l1"
   ]
  },
  {
   "cell_type": "code",
   "execution_count": 84,
   "id": "306336b0-6310-44db-b3cb-017b4a2b8c4e",
   "metadata": {},
   "outputs": [],
   "source": [
    "l=[1,2,3,4,4,5,6,\"sudh\",\"kumar\",392,456,23.87,\"abc\"]\n",
    "l1_num=[]\n",
    "l2_str=[]\n",
    "for i in l:\n",
    "    if type(i) == int or  type(i)== float:\n",
    "        l1_num.append(i)\n",
    "    else:\n",
    "        l2_str.append(i)\n",
    "    \n"
   ]
  },
  {
   "cell_type": "code",
   "execution_count": 86,
   "id": "11d27959-ef2e-457e-b48a-f04c5ad00699",
   "metadata": {},
   "outputs": [
    {
     "data": {
      "text/plain": [
       "[1, 2, 3, 4, 4, 5, 6, 392, 456, 23.87]"
      ]
     },
     "execution_count": 86,
     "metadata": {},
     "output_type": "execute_result"
    }
   ],
   "source": [
    "l1_num\n"
   ]
  },
  {
   "cell_type": "code",
   "execution_count": 88,
   "id": "50205772-9c85-4962-a62a-ebdd754961b2",
   "metadata": {},
   "outputs": [
    {
     "data": {
      "text/plain": [
       "['sudh', 'kumar', 'abc']"
      ]
     },
     "execution_count": 88,
     "metadata": {},
     "output_type": "execute_result"
    }
   ],
   "source": [
    "l2_str"
   ]
  },
  {
   "cell_type": "code",
   "execution_count": null,
   "id": "8f2c8786-9c49-4461-9887-13bfb4aee1dd",
   "metadata": {},
   "outputs": [],
   "source": [
    "  "
   ]
  }
 ],
 "metadata": {
  "kernelspec": {
   "display_name": "Python 3 (ipykernel)",
   "language": "python",
   "name": "python3"
  },
  "language_info": {
   "codemirror_mode": {
    "name": "ipython",
    "version": 3
   },
   "file_extension": ".py",
   "mimetype": "text/x-python",
   "name": "python",
   "nbconvert_exporter": "python",
   "pygments_lexer": "ipython3",
   "version": "3.10.8"
  }
 },
 "nbformat": 4,
 "nbformat_minor": 5
}
